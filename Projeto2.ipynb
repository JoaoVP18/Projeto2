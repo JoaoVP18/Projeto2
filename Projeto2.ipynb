{
  "nbformat": 4,
  "nbformat_minor": 0,
  "metadata": {
    "colab": {
      "provenance": [],
      "authorship_tag": "ABX9TyNDthc14eeuXg/4sDifLkfB",
      "include_colab_link": true
    },
    "kernelspec": {
      "name": "python3",
      "display_name": "Python 3"
    },
    "language_info": {
      "name": "python"
    }
  },
  "cells": [
    {
      "cell_type": "markdown",
      "metadata": {
        "id": "view-in-github",
        "colab_type": "text"
      },
      "source": [
        "<a href=\"https://colab.research.google.com/github/JoaoVP18/Projeto2/blob/main/Projeto2.ipynb\" target=\"_parent\"><img src=\"https://colab.research.google.com/assets/colab-badge.svg\" alt=\"Open In Colab\"/></a>"
      ]
    },
    {
      "cell_type": "markdown",
      "source": [
        "Exercicio 3\n"
      ],
      "metadata": {
        "id": "YAp3oxy9HPwu"
      }
    },
    {
      "cell_type": "code",
      "execution_count": null,
      "metadata": {
        "colab": {
          "base_uri": "https://localhost:8080/"
        },
        "id": "cuLXpNksHM9w",
        "outputId": "c819bb2c-c42b-469a-b6ff-c71cc9643e51"
      },
      "outputs": [
        {
          "output_type": "stream",
          "name": "stdout",
          "text": [
            "Bem-vindo a Copiadora do João Vitor Potratz Pereira\n",
            "Escolha o serviço desejado\n",
            "DIG - Digitalização\n",
            "ICO - Impressão Colorida\n",
            "IPB - Impressão Preto e Branco\n",
            "FOT - Fotocópia\n",
            "Serviço desejado: aldw\n",
            "Serviço inválido. Escolha o serviço desejado novamente\n",
            "\n",
            "Escolha o serviço desejado\n",
            "DIG - Digitalização\n",
            "ICO - Impressão Colorida\n",
            "IPB - Impressão Preto e Branco\n",
            "FOT - Fotocópia\n",
            "Serviço desejado: ipb\n",
            "\n",
            "Digite o número de páginas: 3000000000000000000000000\n",
            "Não aceitamos esse número de páginas de uma vez.\n",
            "Por favor, escolha o número de páginas novamente.\n",
            "\n",
            "Digite o número de páginas: 300\n",
            "\n",
            "Deseja algum servico extra?\n",
            "1 - Encadernação Simples - R$ 15.00\n",
            "2 - Encadernação Capa Dura - R$ 40.00\n",
            "0 - Não desejo mais nada\n",
            "Servico desejado: 1\n",
            "\n",
            "Total a pagar: R$ 111.00 (Serviço: 0.40 * páginas 300 + extra 15.00)\n"
          ]
        }
      ],
      "source": [
        "# EXIGÊNCIA DE CÓDIGO 1 de 7: Mensagem de boas-vindas com nome\n",
        "print('Bem-vindo a Copiadora do João Vitor Potratz Pereira')\n",
        "\n",
        "# EXIGÊNCIA DE CÓDIGO 2 de 7: Função para escolha do serviço\n",
        "def escolha_servico():\n",
        "  while True:\n",
        "    print('Escolha o serviço desejado')\n",
        "    print('DIG - Digitalização')\n",
        "    print('ICO - Impressão Colorida')\n",
        "    print('IPB - Impressão Preto e Branco')\n",
        "    print('FOT - Fotocópia')\n",
        "    servico = input('Serviço desejado: ').upper()\n",
        "    if servico == 'DIG':\n",
        "      return 1.10\n",
        "    elif servico == 'ICO':\n",
        "      return 1.00\n",
        "    elif servico == 'IPB':\n",
        "      return 0.40\n",
        "    elif servico == 'FOT':\n",
        "      return 0.20\n",
        "\n",
        "    else:\n",
        "      print('Serviço inválido. Escolha o serviço desejado novamente\\n')\n",
        "\n",
        "# EXIGÊNCIA DE CÓDIGO 3 de 7: Função para número de paginas\n",
        "def num_pagina():\n",
        "  while True:\n",
        "    try: # EXIGÊNCIA DE CÓDIGO 6 de 7\n",
        "      paginas = int(input('Digite o número de páginas: '))\n",
        "      if paginas >=20000:\n",
        "        print('Não aceitamos esse número de páginas de uma vez.')\n",
        "        print('Por favor, escolha o número de páginas novamente.\\n')\n",
        "        continue\n",
        "      elif paginas >= 2000:\n",
        "        return paginas, paginas * 0.75 # 25% de desconto\n",
        "      elif paginas >= 200:\n",
        "        return paginas, paginas * 0.80 # 20% de desconto\n",
        "      elif paginas >= 20:\n",
        "        return paginas, paginas * 0.85 # 15% de desconto\n",
        "      else:\n",
        "        return paginas, paginas * 1.00 # Sem desconto\n",
        "\n",
        "    except ValueError: # EXIGÊNCIA DE CÓDIGO 6 de 7\n",
        "      print('Entrada inválida. Digite um número inteiro.')\n",
        "\n",
        "# EXIGÊNCIA DE CÓDIGO 4 de 7: Função para serviço extra\n",
        "def servico_extra():\n",
        "  while True:\n",
        "    print('Deseja algum servico extra?')\n",
        "    print('1 - Encadernação Simples - R$ 15.00')\n",
        "    print('2 - Encadernação Capa Dura - R$ 40.00')\n",
        "    print('0 - Não desejo mais nada')\n",
        "    adicional = input('Servico desejado: ')\n",
        "    if adicional == '0':\n",
        "      return 0\n",
        "    elif adicional == '1':\n",
        "      return 15\n",
        "    elif adicional == '2':\n",
        "      return 40\n",
        "    else:\n",
        "      print(\"Opção inválida. Escolha novamente.\")\n",
        "\n",
        "# EXIGÊNCIA DE CÓDIGO 5 de 7: Cálculo principal fora das funções (main)\n",
        "# Coleta dos dados\n",
        "valor_servico = escolha_servico()\n",
        "\n",
        "print()\n",
        "\n",
        "paginas_originais, paginas_descontadas = num_pagina()\n",
        "\n",
        "print()\n",
        "\n",
        "valor_extra = servico_extra()\n",
        "\n",
        "print()\n",
        "\n",
        "# Cálculo do total\n",
        "total = (valor_servico * paginas_descontadas) + valor_extra\n",
        "\n",
        "print(f\"Total a pagar: R$ {total:.2f} (Serviço: {valor_servico:.2f} * páginas {paginas_originais:} + extra {valor_extra:.2f})\")\n",
        "\n"
      ]
    }
  ]
}